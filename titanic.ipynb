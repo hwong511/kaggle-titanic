{
 "cells": [
  {
   "cell_type": "markdown",
   "id": "4f52f245",
   "metadata": {
    "papermill": {
     "duration": 0.008965,
     "end_time": "2024-12-04T04:06:20.723378",
     "exception": false,
     "start_time": "2024-12-04T04:06:20.714413",
     "status": "completed"
    },
    "tags": []
   },
   "source": [
    "# 1. Importing Dependencies"
   ]
  },
  {
   "cell_type": "code",
   "execution_count": 1,
   "id": "19573613",
   "metadata": {
    "execution": {
     "iopub.execute_input": "2024-12-04T04:06:20.739132Z",
     "iopub.status.busy": "2024-12-04T04:06:20.738648Z",
     "iopub.status.idle": "2024-12-04T04:06:24.440611Z",
     "shell.execute_reply": "2024-12-04T04:06:24.439349Z"
    },
    "papermill": {
     "duration": 3.712635,
     "end_time": "2024-12-04T04:06:24.442976",
     "exception": false,
     "start_time": "2024-12-04T04:06:20.730341",
     "status": "completed"
    },
    "tags": []
   },
   "outputs": [
    {
     "name": "stdout",
     "output_type": "stream",
     "text": [
      "/kaggle/input/titanic/train.csv\n",
      "/kaggle/input/titanic/test.csv\n",
      "/kaggle/input/titanic/gender_submission.csv\n"
     ]
    }
   ],
   "source": [
    "import numpy as np\n",
    "import pandas as pd\n",
    "import seaborn as sns\n",
    "import matplotlib.pyplot as plt\n",
    "\n",
    "from sklearn.preprocessing import LabelEncoder\n",
    "\n",
    "from sklearn.model_selection import train_test_split\n",
    "from sklearn.ensemble import RandomForestClassifier\n",
    "from sklearn.metrics import accuracy_score, confusion_matrix\n",
    "\n",
    "\n",
    "import os\n",
    "for dirname, _, filenames in os.walk('/kaggle/input'):\n",
    "    for filename in filenames:\n",
    "        print(os.path.join(dirname, filename))"
   ]
  },
  {
   "cell_type": "markdown",
   "id": "abac2f24",
   "metadata": {
    "papermill": {
     "duration": 0.005739,
     "end_time": "2024-12-04T04:06:24.456273",
     "exception": false,
     "start_time": "2024-12-04T04:06:24.450534",
     "status": "completed"
    },
    "tags": []
   },
   "source": [
    "# 2. Loading and Exploring Data"
   ]
  },
  {
   "cell_type": "code",
   "execution_count": 2,
   "id": "5af8dccf",
   "metadata": {
    "execution": {
     "iopub.execute_input": "2024-12-04T04:06:24.470362Z",
     "iopub.status.busy": "2024-12-04T04:06:24.469813Z",
     "iopub.status.idle": "2024-12-04T04:06:24.498811Z",
     "shell.execute_reply": "2024-12-04T04:06:24.497634Z"
    },
    "papermill": {
     "duration": 0.038828,
     "end_time": "2024-12-04T04:06:24.501282",
     "exception": false,
     "start_time": "2024-12-04T04:06:24.462454",
     "status": "completed"
    },
    "tags": []
   },
   "outputs": [],
   "source": [
    "# Loading data\n",
    "train_df = pd.read_csv('/kaggle/input/titanic/train.csv')\n",
    "test_df = pd.read_csv('/kaggle/input/titanic/test.csv')"
   ]
  },
  {
   "cell_type": "markdown",
   "id": "34510694",
   "metadata": {
    "papermill": {
     "duration": 0.006174,
     "end_time": "2024-12-04T04:06:24.513964",
     "exception": false,
     "start_time": "2024-12-04T04:06:24.507790",
     "status": "completed"
    },
    "tags": []
   },
   "source": [
    "> Let's take a quick look at the data to determine the data types for each feature."
   ]
  },
  {
   "cell_type": "code",
   "execution_count": 3,
   "id": "d4076bf7",
   "metadata": {
    "execution": {
     "iopub.execute_input": "2024-12-04T04:06:24.528736Z",
     "iopub.status.busy": "2024-12-04T04:06:24.528318Z",
     "iopub.status.idle": "2024-12-04T04:06:24.562663Z",
     "shell.execute_reply": "2024-12-04T04:06:24.561479Z"
    },
    "papermill": {
     "duration": 0.044705,
     "end_time": "2024-12-04T04:06:24.565183",
     "exception": false,
     "start_time": "2024-12-04T04:06:24.520478",
     "status": "completed"
    },
    "tags": []
   },
   "outputs": [
    {
     "data": {
      "text/html": [
       "<div>\n",
       "<style scoped>\n",
       "    .dataframe tbody tr th:only-of-type {\n",
       "        vertical-align: middle;\n",
       "    }\n",
       "\n",
       "    .dataframe tbody tr th {\n",
       "        vertical-align: top;\n",
       "    }\n",
       "\n",
       "    .dataframe thead th {\n",
       "        text-align: right;\n",
       "    }\n",
       "</style>\n",
       "<table border=\"1\" class=\"dataframe\">\n",
       "  <thead>\n",
       "    <tr style=\"text-align: right;\">\n",
       "      <th></th>\n",
       "      <th>PassengerId</th>\n",
       "      <th>Survived</th>\n",
       "      <th>Pclass</th>\n",
       "      <th>Name</th>\n",
       "      <th>Sex</th>\n",
       "      <th>Age</th>\n",
       "      <th>SibSp</th>\n",
       "      <th>Parch</th>\n",
       "      <th>Ticket</th>\n",
       "      <th>Fare</th>\n",
       "      <th>Cabin</th>\n",
       "      <th>Embarked</th>\n",
       "    </tr>\n",
       "  </thead>\n",
       "  <tbody>\n",
       "    <tr>\n",
       "      <th>645</th>\n",
       "      <td>646</td>\n",
       "      <td>1</td>\n",
       "      <td>1</td>\n",
       "      <td>Harper, Mr. Henry Sleeper</td>\n",
       "      <td>male</td>\n",
       "      <td>48.00</td>\n",
       "      <td>1</td>\n",
       "      <td>0</td>\n",
       "      <td>PC 17572</td>\n",
       "      <td>76.7292</td>\n",
       "      <td>D33</td>\n",
       "      <td>C</td>\n",
       "    </tr>\n",
       "    <tr>\n",
       "      <th>469</th>\n",
       "      <td>470</td>\n",
       "      <td>1</td>\n",
       "      <td>3</td>\n",
       "      <td>Baclini, Miss. Helene Barbara</td>\n",
       "      <td>female</td>\n",
       "      <td>0.75</td>\n",
       "      <td>2</td>\n",
       "      <td>1</td>\n",
       "      <td>2666</td>\n",
       "      <td>19.2583</td>\n",
       "      <td>NaN</td>\n",
       "      <td>C</td>\n",
       "    </tr>\n",
       "    <tr>\n",
       "      <th>801</th>\n",
       "      <td>802</td>\n",
       "      <td>1</td>\n",
       "      <td>2</td>\n",
       "      <td>Collyer, Mrs. Harvey (Charlotte Annie Tate)</td>\n",
       "      <td>female</td>\n",
       "      <td>31.00</td>\n",
       "      <td>1</td>\n",
       "      <td>1</td>\n",
       "      <td>C.A. 31921</td>\n",
       "      <td>26.2500</td>\n",
       "      <td>NaN</td>\n",
       "      <td>S</td>\n",
       "    </tr>\n",
       "    <tr>\n",
       "      <th>99</th>\n",
       "      <td>100</td>\n",
       "      <td>0</td>\n",
       "      <td>2</td>\n",
       "      <td>Kantor, Mr. Sinai</td>\n",
       "      <td>male</td>\n",
       "      <td>34.00</td>\n",
       "      <td>1</td>\n",
       "      <td>0</td>\n",
       "      <td>244367</td>\n",
       "      <td>26.0000</td>\n",
       "      <td>NaN</td>\n",
       "      <td>S</td>\n",
       "    </tr>\n",
       "    <tr>\n",
       "      <th>550</th>\n",
       "      <td>551</td>\n",
       "      <td>1</td>\n",
       "      <td>1</td>\n",
       "      <td>Thayer, Mr. John Borland Jr</td>\n",
       "      <td>male</td>\n",
       "      <td>17.00</td>\n",
       "      <td>0</td>\n",
       "      <td>2</td>\n",
       "      <td>17421</td>\n",
       "      <td>110.8833</td>\n",
       "      <td>C70</td>\n",
       "      <td>C</td>\n",
       "    </tr>\n",
       "  </tbody>\n",
       "</table>\n",
       "</div>"
      ],
      "text/plain": [
       "     PassengerId  Survived  Pclass  \\\n",
       "645          646         1       1   \n",
       "469          470         1       3   \n",
       "801          802         1       2   \n",
       "99           100         0       2   \n",
       "550          551         1       1   \n",
       "\n",
       "                                            Name     Sex    Age  SibSp  Parch  \\\n",
       "645                    Harper, Mr. Henry Sleeper    male  48.00      1      0   \n",
       "469                Baclini, Miss. Helene Barbara  female   0.75      2      1   \n",
       "801  Collyer, Mrs. Harvey (Charlotte Annie Tate)  female  31.00      1      1   \n",
       "99                             Kantor, Mr. Sinai    male  34.00      1      0   \n",
       "550                  Thayer, Mr. John Borland Jr    male  17.00      0      2   \n",
       "\n",
       "         Ticket      Fare Cabin Embarked  \n",
       "645    PC 17572   76.7292   D33        C  \n",
       "469        2666   19.2583   NaN        C  \n",
       "801  C.A. 31921   26.2500   NaN        S  \n",
       "99       244367   26.0000   NaN        S  \n",
       "550       17421  110.8833   C70        C  "
      ]
     },
     "execution_count": 3,
     "metadata": {},
     "output_type": "execute_result"
    }
   ],
   "source": [
    "# Quick look at train data\n",
    "train_df.sample(5)"
   ]
  },
  {
   "cell_type": "code",
   "execution_count": 4,
   "id": "2ed1b553",
   "metadata": {
    "execution": {
     "iopub.execute_input": "2024-12-04T04:06:24.581235Z",
     "iopub.status.busy": "2024-12-04T04:06:24.580860Z",
     "iopub.status.idle": "2024-12-04T04:06:24.596396Z",
     "shell.execute_reply": "2024-12-04T04:06:24.595243Z"
    },
    "papermill": {
     "duration": 0.02627,
     "end_time": "2024-12-04T04:06:24.598474",
     "exception": false,
     "start_time": "2024-12-04T04:06:24.572204",
     "status": "completed"
    },
    "tags": []
   },
   "outputs": [
    {
     "data": {
      "text/html": [
       "<div>\n",
       "<style scoped>\n",
       "    .dataframe tbody tr th:only-of-type {\n",
       "        vertical-align: middle;\n",
       "    }\n",
       "\n",
       "    .dataframe tbody tr th {\n",
       "        vertical-align: top;\n",
       "    }\n",
       "\n",
       "    .dataframe thead th {\n",
       "        text-align: right;\n",
       "    }\n",
       "</style>\n",
       "<table border=\"1\" class=\"dataframe\">\n",
       "  <thead>\n",
       "    <tr style=\"text-align: right;\">\n",
       "      <th></th>\n",
       "      <th>PassengerId</th>\n",
       "      <th>Pclass</th>\n",
       "      <th>Name</th>\n",
       "      <th>Sex</th>\n",
       "      <th>Age</th>\n",
       "      <th>SibSp</th>\n",
       "      <th>Parch</th>\n",
       "      <th>Ticket</th>\n",
       "      <th>Fare</th>\n",
       "      <th>Cabin</th>\n",
       "      <th>Embarked</th>\n",
       "    </tr>\n",
       "  </thead>\n",
       "  <tbody>\n",
       "    <tr>\n",
       "      <th>261</th>\n",
       "      <td>1153</td>\n",
       "      <td>3</td>\n",
       "      <td>Nilsson, Mr. August Ferdinand</td>\n",
       "      <td>male</td>\n",
       "      <td>21.0</td>\n",
       "      <td>0</td>\n",
       "      <td>0</td>\n",
       "      <td>350410</td>\n",
       "      <td>7.8542</td>\n",
       "      <td>NaN</td>\n",
       "      <td>S</td>\n",
       "    </tr>\n",
       "    <tr>\n",
       "      <th>88</th>\n",
       "      <td>980</td>\n",
       "      <td>3</td>\n",
       "      <td>O'Donoghue, Ms. Bridget</td>\n",
       "      <td>female</td>\n",
       "      <td>NaN</td>\n",
       "      <td>0</td>\n",
       "      <td>0</td>\n",
       "      <td>364856</td>\n",
       "      <td>7.7500</td>\n",
       "      <td>NaN</td>\n",
       "      <td>Q</td>\n",
       "    </tr>\n",
       "    <tr>\n",
       "      <th>403</th>\n",
       "      <td>1295</td>\n",
       "      <td>1</td>\n",
       "      <td>Carrau, Mr. Jose Pedro</td>\n",
       "      <td>male</td>\n",
       "      <td>17.0</td>\n",
       "      <td>0</td>\n",
       "      <td>0</td>\n",
       "      <td>113059</td>\n",
       "      <td>47.1000</td>\n",
       "      <td>NaN</td>\n",
       "      <td>S</td>\n",
       "    </tr>\n",
       "    <tr>\n",
       "      <th>2</th>\n",
       "      <td>894</td>\n",
       "      <td>2</td>\n",
       "      <td>Myles, Mr. Thomas Francis</td>\n",
       "      <td>male</td>\n",
       "      <td>62.0</td>\n",
       "      <td>0</td>\n",
       "      <td>0</td>\n",
       "      <td>240276</td>\n",
       "      <td>9.6875</td>\n",
       "      <td>NaN</td>\n",
       "      <td>Q</td>\n",
       "    </tr>\n",
       "    <tr>\n",
       "      <th>366</th>\n",
       "      <td>1258</td>\n",
       "      <td>3</td>\n",
       "      <td>Caram, Mr. Joseph</td>\n",
       "      <td>male</td>\n",
       "      <td>NaN</td>\n",
       "      <td>1</td>\n",
       "      <td>0</td>\n",
       "      <td>2689</td>\n",
       "      <td>14.4583</td>\n",
       "      <td>NaN</td>\n",
       "      <td>C</td>\n",
       "    </tr>\n",
       "  </tbody>\n",
       "</table>\n",
       "</div>"
      ],
      "text/plain": [
       "     PassengerId  Pclass                           Name     Sex   Age  SibSp  \\\n",
       "261         1153       3  Nilsson, Mr. August Ferdinand    male  21.0      0   \n",
       "88           980       3        O'Donoghue, Ms. Bridget  female   NaN      0   \n",
       "403         1295       1         Carrau, Mr. Jose Pedro    male  17.0      0   \n",
       "2            894       2      Myles, Mr. Thomas Francis    male  62.0      0   \n",
       "366         1258       3              Caram, Mr. Joseph    male   NaN      1   \n",
       "\n",
       "     Parch  Ticket     Fare Cabin Embarked  \n",
       "261      0  350410   7.8542   NaN        S  \n",
       "88       0  364856   7.7500   NaN        Q  \n",
       "403      0  113059  47.1000   NaN        S  \n",
       "2        0  240276   9.6875   NaN        Q  \n",
       "366      0    2689  14.4583   NaN        C  "
      ]
     },
     "execution_count": 4,
     "metadata": {},
     "output_type": "execute_result"
    }
   ],
   "source": [
    "# Quick look at test data\n",
    "test_df.sample(5)"
   ]
  },
  {
   "cell_type": "code",
   "execution_count": 5,
   "id": "81e6e09d",
   "metadata": {
    "execution": {
     "iopub.execute_input": "2024-12-04T04:06:24.613488Z",
     "iopub.status.busy": "2024-12-04T04:06:24.613114Z",
     "iopub.status.idle": "2024-12-04T04:06:24.639942Z",
     "shell.execute_reply": "2024-12-04T04:06:24.638695Z"
    },
    "papermill": {
     "duration": 0.03734,
     "end_time": "2024-12-04T04:06:24.642481",
     "exception": false,
     "start_time": "2024-12-04T04:06:24.605141",
     "status": "completed"
    },
    "tags": []
   },
   "outputs": [
    {
     "name": "stdout",
     "output_type": "stream",
     "text": [
      "<class 'pandas.core.frame.DataFrame'>\n",
      "RangeIndex: 891 entries, 0 to 890\n",
      "Data columns (total 12 columns):\n",
      " #   Column       Non-Null Count  Dtype  \n",
      "---  ------       --------------  -----  \n",
      " 0   PassengerId  891 non-null    int64  \n",
      " 1   Survived     891 non-null    int64  \n",
      " 2   Pclass       891 non-null    int64  \n",
      " 3   Name         891 non-null    object \n",
      " 4   Sex          891 non-null    object \n",
      " 5   Age          714 non-null    float64\n",
      " 6   SibSp        891 non-null    int64  \n",
      " 7   Parch        891 non-null    int64  \n",
      " 8   Ticket       891 non-null    object \n",
      " 9   Fare         891 non-null    float64\n",
      " 10  Cabin        204 non-null    object \n",
      " 11  Embarked     889 non-null    object \n",
      "dtypes: float64(2), int64(5), object(5)\n",
      "memory usage: 83.7+ KB\n"
     ]
    }
   ],
   "source": [
    "# Determining data types\n",
    "train_df.info()"
   ]
  },
  {
   "cell_type": "markdown",
   "id": "8332ca3e",
   "metadata": {
    "papermill": {
     "duration": 0.006675,
     "end_time": "2024-12-04T04:06:24.656334",
     "exception": false,
     "start_time": "2024-12-04T04:06:24.649659",
     "status": "completed"
    },
    "tags": []
   },
   "source": [
    "Based on the codes above, we can determine the data types of the features in our data:\n",
    "* Numerical: Age, SibSp, Parch, Fare\n",
    "* Categorical: **Survived (TARGET)**, Pclass, Sex, Embarked\n",
    "* Alphanumerical: Ticket, Cabin\n"
   ]
  },
  {
   "cell_type": "code",
   "execution_count": 6,
   "id": "02d18dad",
   "metadata": {
    "execution": {
     "iopub.execute_input": "2024-12-04T04:06:24.671719Z",
     "iopub.status.busy": "2024-12-04T04:06:24.671317Z",
     "iopub.status.idle": "2024-12-04T04:06:24.703311Z",
     "shell.execute_reply": "2024-12-04T04:06:24.701949Z"
    },
    "papermill": {
     "duration": 0.042237,
     "end_time": "2024-12-04T04:06:24.705532",
     "exception": false,
     "start_time": "2024-12-04T04:06:24.663295",
     "status": "completed"
    },
    "tags": []
   },
   "outputs": [
    {
     "data": {
      "text/html": [
       "<div>\n",
       "<style scoped>\n",
       "    .dataframe tbody tr th:only-of-type {\n",
       "        vertical-align: middle;\n",
       "    }\n",
       "\n",
       "    .dataframe tbody tr th {\n",
       "        vertical-align: top;\n",
       "    }\n",
       "\n",
       "    .dataframe thead th {\n",
       "        text-align: right;\n",
       "    }\n",
       "</style>\n",
       "<table border=\"1\" class=\"dataframe\">\n",
       "  <thead>\n",
       "    <tr style=\"text-align: right;\">\n",
       "      <th></th>\n",
       "      <th>count</th>\n",
       "      <th>mean</th>\n",
       "      <th>std</th>\n",
       "      <th>min</th>\n",
       "      <th>25%</th>\n",
       "      <th>50%</th>\n",
       "      <th>75%</th>\n",
       "      <th>max</th>\n",
       "    </tr>\n",
       "  </thead>\n",
       "  <tbody>\n",
       "    <tr>\n",
       "      <th>PassengerId</th>\n",
       "      <td>891.0</td>\n",
       "      <td>446.000000</td>\n",
       "      <td>257.353842</td>\n",
       "      <td>1.00</td>\n",
       "      <td>223.5000</td>\n",
       "      <td>446.0000</td>\n",
       "      <td>668.5</td>\n",
       "      <td>891.0000</td>\n",
       "    </tr>\n",
       "    <tr>\n",
       "      <th>Survived</th>\n",
       "      <td>891.0</td>\n",
       "      <td>0.383838</td>\n",
       "      <td>0.486592</td>\n",
       "      <td>0.00</td>\n",
       "      <td>0.0000</td>\n",
       "      <td>0.0000</td>\n",
       "      <td>1.0</td>\n",
       "      <td>1.0000</td>\n",
       "    </tr>\n",
       "    <tr>\n",
       "      <th>Pclass</th>\n",
       "      <td>891.0</td>\n",
       "      <td>2.308642</td>\n",
       "      <td>0.836071</td>\n",
       "      <td>1.00</td>\n",
       "      <td>2.0000</td>\n",
       "      <td>3.0000</td>\n",
       "      <td>3.0</td>\n",
       "      <td>3.0000</td>\n",
       "    </tr>\n",
       "    <tr>\n",
       "      <th>Age</th>\n",
       "      <td>714.0</td>\n",
       "      <td>29.699118</td>\n",
       "      <td>14.526497</td>\n",
       "      <td>0.42</td>\n",
       "      <td>20.1250</td>\n",
       "      <td>28.0000</td>\n",
       "      <td>38.0</td>\n",
       "      <td>80.0000</td>\n",
       "    </tr>\n",
       "    <tr>\n",
       "      <th>SibSp</th>\n",
       "      <td>891.0</td>\n",
       "      <td>0.523008</td>\n",
       "      <td>1.102743</td>\n",
       "      <td>0.00</td>\n",
       "      <td>0.0000</td>\n",
       "      <td>0.0000</td>\n",
       "      <td>1.0</td>\n",
       "      <td>8.0000</td>\n",
       "    </tr>\n",
       "    <tr>\n",
       "      <th>Parch</th>\n",
       "      <td>891.0</td>\n",
       "      <td>0.381594</td>\n",
       "      <td>0.806057</td>\n",
       "      <td>0.00</td>\n",
       "      <td>0.0000</td>\n",
       "      <td>0.0000</td>\n",
       "      <td>0.0</td>\n",
       "      <td>6.0000</td>\n",
       "    </tr>\n",
       "    <tr>\n",
       "      <th>Fare</th>\n",
       "      <td>891.0</td>\n",
       "      <td>32.204208</td>\n",
       "      <td>49.693429</td>\n",
       "      <td>0.00</td>\n",
       "      <td>7.9104</td>\n",
       "      <td>14.4542</td>\n",
       "      <td>31.0</td>\n",
       "      <td>512.3292</td>\n",
       "    </tr>\n",
       "  </tbody>\n",
       "</table>\n",
       "</div>"
      ],
      "text/plain": [
       "             count        mean         std   min       25%       50%    75%  \\\n",
       "PassengerId  891.0  446.000000  257.353842  1.00  223.5000  446.0000  668.5   \n",
       "Survived     891.0    0.383838    0.486592  0.00    0.0000    0.0000    1.0   \n",
       "Pclass       891.0    2.308642    0.836071  1.00    2.0000    3.0000    3.0   \n",
       "Age          714.0   29.699118   14.526497  0.42   20.1250   28.0000   38.0   \n",
       "SibSp        891.0    0.523008    1.102743  0.00    0.0000    0.0000    1.0   \n",
       "Parch        891.0    0.381594    0.806057  0.00    0.0000    0.0000    0.0   \n",
       "Fare         891.0   32.204208   49.693429  0.00    7.9104   14.4542   31.0   \n",
       "\n",
       "                  max  \n",
       "PassengerId  891.0000  \n",
       "Survived       1.0000  \n",
       "Pclass         3.0000  \n",
       "Age           80.0000  \n",
       "SibSp          8.0000  \n",
       "Parch          6.0000  \n",
       "Fare         512.3292  "
      ]
     },
     "execution_count": 6,
     "metadata": {},
     "output_type": "execute_result"
    }
   ],
   "source": [
    "# Descriptive statistics about train data\n",
    "train_df.describe().transpose()"
   ]
  },
  {
   "cell_type": "code",
   "execution_count": 7,
   "id": "5e68651a",
   "metadata": {
    "execution": {
     "iopub.execute_input": "2024-12-04T04:06:24.721453Z",
     "iopub.status.busy": "2024-12-04T04:06:24.721047Z",
     "iopub.status.idle": "2024-12-04T04:06:24.730441Z",
     "shell.execute_reply": "2024-12-04T04:06:24.729427Z"
    },
    "papermill": {
     "duration": 0.019953,
     "end_time": "2024-12-04T04:06:24.732742",
     "exception": false,
     "start_time": "2024-12-04T04:06:24.712789",
     "status": "completed"
    },
    "tags": []
   },
   "outputs": [
    {
     "data": {
      "text/plain": [
       "PassengerId      0\n",
       "Survived         0\n",
       "Pclass           0\n",
       "Name             0\n",
       "Sex              0\n",
       "Age            177\n",
       "SibSp            0\n",
       "Parch            0\n",
       "Ticket           0\n",
       "Fare             0\n",
       "Cabin          687\n",
       "Embarked         2\n",
       "dtype: int64"
      ]
     },
     "execution_count": 7,
     "metadata": {},
     "output_type": "execute_result"
    }
   ],
   "source": [
    "# Determining amount of NA values\n",
    "pd.isnull(train_df).sum()"
   ]
  },
  {
   "cell_type": "markdown",
   "id": "25a47874",
   "metadata": {
    "papermill": {
     "duration": 0.00678,
     "end_time": "2024-12-04T04:06:24.746741",
     "exception": false,
     "start_time": "2024-12-04T04:06:24.739961",
     "status": "completed"
    },
    "tags": []
   },
   "source": [
    "From the code above, we can see that:\n",
    "* Age is missing 177 out of 891 observations.\n",
    "* Cabin is missing 687 out of 891 observations.\n",
    "* Embarked is missing 2 out of 891 observations."
   ]
  },
  {
   "cell_type": "markdown",
   "id": "0eeda295",
   "metadata": {
    "papermill": {
     "duration": 0.007053,
     "end_time": "2024-12-04T04:06:24.760900",
     "exception": false,
     "start_time": "2024-12-04T04:06:24.753847",
     "status": "completed"
    },
    "tags": []
   },
   "source": [
    "# 3. Data Preprocessing"
   ]
  },
  {
   "cell_type": "markdown",
   "id": "3d7b0340",
   "metadata": {
    "papermill": {
     "duration": 0.006867,
     "end_time": "2024-12-04T04:06:24.775949",
     "exception": false,
     "start_time": "2024-12-04T04:06:24.769082",
     "status": "completed"
    },
    "tags": []
   },
   "source": [
    "> We will start by looking at the NA values in the columns listed above. For ['Age'], a variable that is often skewed, we will be replacing the NA values with the median."
   ]
  },
  {
   "cell_type": "code",
   "execution_count": 8,
   "id": "c2163221",
   "metadata": {
    "execution": {
     "iopub.execute_input": "2024-12-04T04:06:24.792988Z",
     "iopub.status.busy": "2024-12-04T04:06:24.792580Z",
     "iopub.status.idle": "2024-12-04T04:06:24.801294Z",
     "shell.execute_reply": "2024-12-04T04:06:24.800159Z"
    },
    "papermill": {
     "duration": 0.02107,
     "end_time": "2024-12-04T04:06:24.803942",
     "exception": false,
     "start_time": "2024-12-04T04:06:24.782872",
     "status": "completed"
    },
    "tags": []
   },
   "outputs": [],
   "source": [
    "# Filling NA values in Age\n",
    "train_df['Age'] = train_df['Age'].fillna(train_df['Age'].median())"
   ]
  },
  {
   "cell_type": "markdown",
   "id": "a953fd84",
   "metadata": {
    "papermill": {
     "duration": 0.006655,
     "end_time": "2024-12-04T04:06:24.817638",
     "exception": false,
     "start_time": "2024-12-04T04:06:24.810983",
     "status": "completed"
    },
    "tags": []
   },
   "source": [
    "> Moving on to ['Embarked']. Since it is a categorical variable, we will be filling the NA values with the mode."
   ]
  },
  {
   "cell_type": "code",
   "execution_count": 9,
   "id": "7f61f2ea",
   "metadata": {
    "execution": {
     "iopub.execute_input": "2024-12-04T04:06:24.835044Z",
     "iopub.status.busy": "2024-12-04T04:06:24.833935Z",
     "iopub.status.idle": "2024-12-04T04:06:24.846374Z",
     "shell.execute_reply": "2024-12-04T04:06:24.844961Z"
    },
    "papermill": {
     "duration": 0.023994,
     "end_time": "2024-12-04T04:06:24.848740",
     "exception": false,
     "start_time": "2024-12-04T04:06:24.824746",
     "status": "completed"
    },
    "tags": []
   },
   "outputs": [
    {
     "data": {
      "text/plain": [
       "0      S\n",
       "1      C\n",
       "2      S\n",
       "3      S\n",
       "4      S\n",
       "      ..\n",
       "886    S\n",
       "887    S\n",
       "888    S\n",
       "889    C\n",
       "890    Q\n",
       "Name: Embarked, Length: 891, dtype: object"
      ]
     },
     "execution_count": 9,
     "metadata": {},
     "output_type": "execute_result"
    }
   ],
   "source": [
    "# Filling NA values in Embarked\n",
    "train_df['Embarked'].fillna(train_df['Embarked'].mode()[0])"
   ]
  },
  {
   "cell_type": "code",
   "execution_count": 10,
   "id": "61983bce",
   "metadata": {
    "execution": {
     "iopub.execute_input": "2024-12-04T04:06:24.866105Z",
     "iopub.status.busy": "2024-12-04T04:06:24.865406Z",
     "iopub.status.idle": "2024-12-04T04:06:24.874243Z",
     "shell.execute_reply": "2024-12-04T04:06:24.873001Z"
    },
    "papermill": {
     "duration": 0.020162,
     "end_time": "2024-12-04T04:06:24.876695",
     "exception": false,
     "start_time": "2024-12-04T04:06:24.856533",
     "status": "completed"
    },
    "tags": []
   },
   "outputs": [],
   "source": [
    "# Treating NA values in Cabin\n",
    "# We will do this by creating a binary feature\n",
    "train_df['HasCabin'] = train_df['Cabin'].notnull().astype(int)"
   ]
  },
  {
   "cell_type": "code",
   "execution_count": 11,
   "id": "b7615fa3",
   "metadata": {
    "execution": {
     "iopub.execute_input": "2024-12-04T04:06:24.894156Z",
     "iopub.status.busy": "2024-12-04T04:06:24.893389Z",
     "iopub.status.idle": "2024-12-04T04:06:24.900980Z",
     "shell.execute_reply": "2024-12-04T04:06:24.899778Z"
    },
    "papermill": {
     "duration": 0.018748,
     "end_time": "2024-12-04T04:06:24.903201",
     "exception": false,
     "start_time": "2024-12-04T04:06:24.884453",
     "status": "completed"
    },
    "tags": []
   },
   "outputs": [],
   "source": [
    "# Converting categorical variables (Sex + Embarked)\n",
    "le = LabelEncoder()\n",
    "train_df['Sex'] = le.fit_transform(train_df['Sex'])\n",
    "train_df['Embarked'] = le.fit_transform(train_df['Embarked'])"
   ]
  },
  {
   "cell_type": "code",
   "execution_count": 12,
   "id": "d2e7615f",
   "metadata": {
    "execution": {
     "iopub.execute_input": "2024-12-04T04:06:24.919050Z",
     "iopub.status.busy": "2024-12-04T04:06:24.918712Z",
     "iopub.status.idle": "2024-12-04T04:06:24.926648Z",
     "shell.execute_reply": "2024-12-04T04:06:24.925463Z"
    },
    "papermill": {
     "duration": 0.018379,
     "end_time": "2024-12-04T04:06:24.928741",
     "exception": false,
     "start_time": "2024-12-04T04:06:24.910362",
     "status": "completed"
    },
    "tags": []
   },
   "outputs": [],
   "source": [
    "# Converting categorical variables (Pclass) using Ordinal Encoding\n",
    "pclass_map = {1: 1, 2: 2, 3: 3}\n",
    "train_df['Pclass'] = train_df['Pclass'].map(pclass_map)"
   ]
  },
  {
   "cell_type": "markdown",
   "id": "2aadc7d6",
   "metadata": {
    "papermill": {
     "duration": 0.006848,
     "end_time": "2024-12-04T04:06:24.943290",
     "exception": false,
     "start_time": "2024-12-04T04:06:24.936442",
     "status": "completed"
    },
    "tags": []
   },
   "source": [
    "> For ['Names'], we can probably use it as feature by extracting the titles and seeing if they impacted whether someone survived or not."
   ]
  },
  {
   "cell_type": "code",
   "execution_count": 13,
   "id": "bab3ce62",
   "metadata": {
    "execution": {
     "iopub.execute_input": "2024-12-04T04:06:24.958884Z",
     "iopub.status.busy": "2024-12-04T04:06:24.958532Z",
     "iopub.status.idle": "2024-12-04T04:06:24.964581Z",
     "shell.execute_reply": "2024-12-04T04:06:24.963485Z"
    },
    "papermill": {
     "duration": 0.016414,
     "end_time": "2024-12-04T04:06:24.966705",
     "exception": false,
     "start_time": "2024-12-04T04:06:24.950291",
     "status": "completed"
    },
    "tags": []
   },
   "outputs": [],
   "source": [
    "# Dropping unnecessary columns\n",
    "train_df = train_df.drop(['Name', 'Ticket', 'Cabin'], axis=1)"
   ]
  },
  {
   "cell_type": "code",
   "execution_count": 14,
   "id": "c8542195",
   "metadata": {
    "execution": {
     "iopub.execute_input": "2024-12-04T04:06:24.982959Z",
     "iopub.status.busy": "2024-12-04T04:06:24.982437Z",
     "iopub.status.idle": "2024-12-04T04:06:24.993677Z",
     "shell.execute_reply": "2024-12-04T04:06:24.992617Z"
    },
    "papermill": {
     "duration": 0.021817,
     "end_time": "2024-12-04T04:06:24.995736",
     "exception": false,
     "start_time": "2024-12-04T04:06:24.973919",
     "status": "completed"
    },
    "tags": []
   },
   "outputs": [],
   "source": [
    "# Doing the same for our test data\n",
    "test_df['Age'] = test_df['Age'].fillna(test_df['Age'].median())\n",
    "test_df['Fare'] = test_df['Fare'].fillna(test_df['Fare'].median())\n",
    "\n",
    "test_df['Sex'] = le.fit_transform(test_df['Sex'])\n",
    "test_df['Embarked'] = le.fit_transform(test_df['Embarked'])\n",
    "\n",
    "test_df['HasCabin'] = test_df['Cabin'].notnull().astype(int)\n",
    "\n",
    "test_df = test_df.drop(['Name', 'Ticket', 'Cabin'], axis=1)"
   ]
  },
  {
   "cell_type": "markdown",
   "id": "1772b120",
   "metadata": {
    "papermill": {
     "duration": 0.006785,
     "end_time": "2024-12-04T04:06:25.009679",
     "exception": false,
     "start_time": "2024-12-04T04:06:25.002894",
     "status": "completed"
    },
    "tags": []
   },
   "source": [
    "# 4. Feature Engineering"
   ]
  },
  {
   "cell_type": "code",
   "execution_count": 15,
   "id": "5167c4be",
   "metadata": {
    "execution": {
     "iopub.execute_input": "2024-12-04T04:06:25.025363Z",
     "iopub.status.busy": "2024-12-04T04:06:25.025031Z",
     "iopub.status.idle": "2024-12-04T04:06:25.031579Z",
     "shell.execute_reply": "2024-12-04T04:06:25.030312Z"
    },
    "papermill": {
     "duration": 0.017476,
     "end_time": "2024-12-04T04:06:25.034106",
     "exception": false,
     "start_time": "2024-12-04T04:06:25.016630",
     "status": "completed"
    },
    "tags": []
   },
   "outputs": [],
   "source": [
    "# Creating a 'GroupSize' feature\n",
    "train_df['GroupSize'] = train_df['SibSp'] + train_df['Parch'] + 1"
   ]
  },
  {
   "cell_type": "code",
   "execution_count": 16,
   "id": "ca4f1353",
   "metadata": {
    "execution": {
     "iopub.execute_input": "2024-12-04T04:06:25.050145Z",
     "iopub.status.busy": "2024-12-04T04:06:25.049658Z",
     "iopub.status.idle": "2024-12-04T04:06:25.056642Z",
     "shell.execute_reply": "2024-12-04T04:06:25.055435Z"
    },
    "papermill": {
     "duration": 0.017635,
     "end_time": "2024-12-04T04:06:25.058899",
     "exception": false,
     "start_time": "2024-12-04T04:06:25.041264",
     "status": "completed"
    },
    "tags": []
   },
   "outputs": [],
   "source": [
    "# Creating a 'IsAlone' feature\n",
    "train_df['IsAlone'] = 1\n",
    "train_df.loc[train_df['GroupSize'] > 1, 'IsAlone'] = 0"
   ]
  },
  {
   "cell_type": "code",
   "execution_count": 17,
   "id": "404bbf14",
   "metadata": {
    "execution": {
     "iopub.execute_input": "2024-12-04T04:06:25.075122Z",
     "iopub.status.busy": "2024-12-04T04:06:25.074763Z",
     "iopub.status.idle": "2024-12-04T04:06:25.082205Z",
     "shell.execute_reply": "2024-12-04T04:06:25.081166Z"
    },
    "papermill": {
     "duration": 0.018346,
     "end_time": "2024-12-04T04:06:25.084708",
     "exception": false,
     "start_time": "2024-12-04T04:06:25.066362",
     "status": "completed"
    },
    "tags": []
   },
   "outputs": [],
   "source": [
    "# Doing the same for our test data\n",
    "test_df['GroupSize'] = test_df['SibSp'] + test_df['Parch'] + 1\n",
    "\n",
    "test_df['IsAlone'] = 1\n",
    "test_df.loc[test_df['GroupSize'] > 1, 'IsAlone'] = 0"
   ]
  },
  {
   "cell_type": "markdown",
   "id": "2a658538",
   "metadata": {
    "papermill": {
     "duration": 0.006728,
     "end_time": "2024-12-04T04:06:25.098980",
     "exception": false,
     "start_time": "2024-12-04T04:06:25.092252",
     "status": "completed"
    },
    "tags": []
   },
   "source": [
    "# 5. Splitting Data"
   ]
  },
  {
   "cell_type": "code",
   "execution_count": 18,
   "id": "642b8eaa",
   "metadata": {
    "execution": {
     "iopub.execute_input": "2024-12-04T04:06:25.115868Z",
     "iopub.status.busy": "2024-12-04T04:06:25.115443Z",
     "iopub.status.idle": "2024-12-04T04:06:25.127446Z",
     "shell.execute_reply": "2024-12-04T04:06:25.126199Z"
    },
    "papermill": {
     "duration": 0.022696,
     "end_time": "2024-12-04T04:06:25.129919",
     "exception": false,
     "start_time": "2024-12-04T04:06:25.107223",
     "status": "completed"
    },
    "tags": []
   },
   "outputs": [],
   "source": [
    "X = train_df.drop('Survived', axis=1)\n",
    "y = train_df['Survived']\n",
    "\n",
    "# Split data into training and validation sets\n",
    "X_train, X_val, y_train, y_val = train_test_split(X, y, test_size=0.3, random_state=42)"
   ]
  },
  {
   "cell_type": "markdown",
   "id": "5b517e11",
   "metadata": {
    "papermill": {
     "duration": 0.006961,
     "end_time": "2024-12-04T04:06:25.143984",
     "exception": false,
     "start_time": "2024-12-04T04:06:25.137023",
     "status": "completed"
    },
    "tags": []
   },
   "source": [
    "# 6. Modeling"
   ]
  },
  {
   "cell_type": "code",
   "execution_count": 19,
   "id": "bcbe3131",
   "metadata": {
    "execution": {
     "iopub.execute_input": "2024-12-04T04:06:25.159466Z",
     "iopub.status.busy": "2024-12-04T04:06:25.159072Z",
     "iopub.status.idle": "2024-12-04T04:06:25.372882Z",
     "shell.execute_reply": "2024-12-04T04:06:25.371530Z"
    },
    "papermill": {
     "duration": 0.224655,
     "end_time": "2024-12-04T04:06:25.375534",
     "exception": false,
     "start_time": "2024-12-04T04:06:25.150879",
     "status": "completed"
    },
    "tags": []
   },
   "outputs": [],
   "source": [
    "model = RandomForestClassifier(n_estimators=100, random_state=42)\n",
    "model.fit(X_train, y_train)\n",
    "y_pred = model.predict(X_val)"
   ]
  },
  {
   "cell_type": "code",
   "execution_count": 20,
   "id": "c39eb250",
   "metadata": {
    "execution": {
     "iopub.execute_input": "2024-12-04T04:06:25.391724Z",
     "iopub.status.busy": "2024-12-04T04:06:25.391314Z",
     "iopub.status.idle": "2024-12-04T04:06:25.399567Z",
     "shell.execute_reply": "2024-12-04T04:06:25.398084Z"
    },
    "papermill": {
     "duration": 0.019032,
     "end_time": "2024-12-04T04:06:25.401978",
     "exception": false,
     "start_time": "2024-12-04T04:06:25.382946",
     "status": "completed"
    },
    "tags": []
   },
   "outputs": [
    {
     "name": "stdout",
     "output_type": "stream",
     "text": [
      "Accuracy: 80.60%\n"
     ]
    }
   ],
   "source": [
    "# Accuracy score\n",
    "accuracy = accuracy_score(y_val, y_pred)\n",
    "print(f'Accuracy: {accuracy * 100:.2f}%')"
   ]
  },
  {
   "cell_type": "code",
   "execution_count": 21,
   "id": "6d6546de",
   "metadata": {
    "execution": {
     "iopub.execute_input": "2024-12-04T04:06:25.418421Z",
     "iopub.status.busy": "2024-12-04T04:06:25.418046Z",
     "iopub.status.idle": "2024-12-04T04:06:25.748747Z",
     "shell.execute_reply": "2024-12-04T04:06:25.747338Z"
    },
    "papermill": {
     "duration": 0.34181,
     "end_time": "2024-12-04T04:06:25.751358",
     "exception": false,
     "start_time": "2024-12-04T04:06:25.409548",
     "status": "completed"
    },
    "tags": []
   },
   "outputs": [
    {
     "data": {
      "text/plain": [
       "Text(0.5, 1.0, 'Confusion Matrix')"
      ]
     },
     "execution_count": 21,
     "metadata": {},
     "output_type": "execute_result"
    },
    {
     "data": {
      "image/png": "[encoded data removed]",
      "text/plain": [
       "<Figure size 640x480 with 2 Axes>"
      ]
     },
     "metadata": {},
     "output_type": "display_data"
    }
   ],
   "source": [
    "# Generating a confusion matrix\n",
    "cm = confusion_matrix(y_val, y_pred)\n",
    "sns.heatmap(cm, annot=True, fmt='d', cmap='Greens')\n",
    "plt.title('Confusion Matrix')"
   ]
  },
  {
   "cell_type": "code",
   "execution_count": 22,
   "id": "04a195e2",
   "metadata": {
    "execution": {
     "iopub.execute_input": "2024-12-04T04:06:25.770057Z",
     "iopub.status.busy": "2024-12-04T04:06:25.769685Z",
     "iopub.status.idle": "2024-12-04T04:06:25.789992Z",
     "shell.execute_reply": "2024-12-04T04:06:25.788291Z"
    },
    "papermill": {
     "duration": 0.033348,
     "end_time": "2024-12-04T04:06:25.793401",
     "exception": false,
     "start_time": "2024-12-04T04:06:25.760053",
     "status": "completed"
    },
    "tags": []
   },
   "outputs": [
    {
     "name": "stdout",
     "output_type": "stream",
     "text": [
      "        Feature  Importance\n",
      "2           Sex    0.233187\n",
      "6          Fare    0.184066\n",
      "0   PassengerId    0.179140\n",
      "3           Age    0.160591\n",
      "1        Pclass    0.064973\n",
      "9     GroupSize    0.044057\n",
      "8      HasCabin    0.042313\n",
      "7      Embarked    0.034378\n",
      "4         SibSp    0.025092\n",
      "5         Parch    0.021151\n",
      "10      IsAlone    0.011052\n"
     ]
    }
   ],
   "source": [
    "# Feature importance\n",
    "feature_importance = pd.DataFrame({\n",
    "    'Feature': X.columns,\n",
    "    'Importance': model.feature_importances_\n",
    "})\n",
    "feature_importance = feature_importance.sort_values(by='Importance', ascending=False)\n",
    "print(feature_importance)"
   ]
  },
  {
   "cell_type": "markdown",
   "id": "4448ae46",
   "metadata": {
    "papermill": {
     "duration": 0.008455,
     "end_time": "2024-12-04T04:06:25.810764",
     "exception": false,
     "start_time": "2024-12-04T04:06:25.802309",
     "status": "completed"
    },
    "tags": []
   },
   "source": [
    "# 7. Creating a Submission File"
   ]
  },
  {
   "cell_type": "code",
   "execution_count": 23,
   "id": "b121f3bc",
   "metadata": {
    "execution": {
     "iopub.execute_input": "2024-12-04T04:06:25.828378Z",
     "iopub.status.busy": "2024-12-04T04:06:25.827948Z",
     "iopub.status.idle": "2024-12-04T04:06:25.851850Z",
     "shell.execute_reply": "2024-12-04T04:06:25.850581Z"
    },
    "papermill": {
     "duration": 0.036253,
     "end_time": "2024-12-04T04:06:25.854869",
     "exception": false,
     "start_time": "2024-12-04T04:06:25.818616",
     "status": "completed"
    },
    "tags": []
   },
   "outputs": [],
   "source": [
    "X_test = test_df\n",
    "test_predictions = model.predict(X_test)\n",
    "\n",
    "submission = pd.DataFrame({\n",
    "    'PassengerId': test_df['PassengerId'],\n",
    "    'Survived': test_predictions\n",
    "})\n",
    "\n",
    "submission.to_csv('submission.csv', index=False)"
   ]
  }
 ],
 "metadata": {
  "kaggle": {
   "accelerator": "none",
   "dataSources": [
    {
     "databundleVersionId": 26502,
     "sourceId": 3136,
     "sourceType": "competition"
    }
   ],
   "dockerImageVersionId": 30804,
   "isGpuEnabled": false,
   "isInternetEnabled": false,
   "language": "python",
   "sourceType": "notebook"
  },
  "kernelspec": {
   "display_name": "Python 3",
   "language": "python",
   "name": "python3"
  },
  "language_info": {
   "codemirror_mode": {
    "name": "ipython",
    "version": 3
   },
   "file_extension": ".py",
   "mimetype": "text/x-python",
   "name": "python",
   "nbconvert_exporter": "python",
   "pygments_lexer": "ipython3",
   "version": "3.10.14"
  },
  "papermill": {
   "default_parameters": {},
   "duration": 8.832962,
   "end_time": "2024-12-04T04:06:26.586110",
   "environment_variables": {},
   "exception": null,
   "input_path": "__notebook__.ipynb",
   "output_path": "__notebook__.ipynb",
   "parameters": {},
   "start_time": "2024-12-04T04:06:17.753148",
   "version": "2.6.0"
  }
 },
 "nbformat": 4,
 "nbformat_minor": 5
}
